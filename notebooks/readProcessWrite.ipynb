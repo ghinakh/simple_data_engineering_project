{
 "cells": [
  {
   "cell_type": "code",
   "execution_count": 1,
   "id": "5f035934-9d24-482a-90c9-5cea8d3d65a8",
   "metadata": {
    "tags": []
   },
   "outputs": [],
   "source": [
    "from pyspark.sql import SparkSession"
   ]
  },
  {
   "cell_type": "code",
   "execution_count": 2,
   "id": "7034ebd5-bca7-4519-b25a-42526f42a355",
   "metadata": {
    "tags": []
   },
   "outputs": [
    {
     "name": "stderr",
     "output_type": "stream",
     "text": [
      "25/06/06 13:31:01 WARN SparkSession: Using an existing Spark session; only runtime SQL configurations will take effect.\n"
     ]
    }
   ],
   "source": [
    "spark = SparkSession.builder \\\n",
    "    .appName(\"ecommerce_dummy\") \\\n",
    "    .config(\"spark.executor.instances\", \"2\") \\\n",
    "    .config(\"spark.executor.memory\", \"2g\") \\\n",
    "    .config(\"spark.executor.cores\", \"1\") \\\n",
    "    .config(\"spark.dynamicAllocation.enabled\", \"false\") \\\n",
    "    .getOrCreate()"
   ]
  },
  {
   "cell_type": "code",
   "execution_count": 3,
   "id": "abf72306-b603-4c47-a15a-4edc34d98df4",
   "metadata": {
    "tags": []
   },
   "outputs": [],
   "source": [
    "from pyspark.sql.types import *\n",
    "from pyspark.sql.functions import *"
   ]
  },
  {
   "cell_type": "code",
   "execution_count": 87,
   "id": "869b262a-4746-4f93-bbda-f1a2ecd30910",
   "metadata": {
    "tags": []
   },
   "outputs": [],
   "source": [
    "# !gsutil mv gs://dataproc-staging-us-central1-1097408646578-yvstuqxm/external_dataset/customers_500mb.csv gs://dataproc-staging-us-central1-1097408646578-yvstuqxm/ecommerce_dummy/customers_500mb.csv"
   ]
  },
  {
   "cell_type": "markdown",
   "id": "2d9d8f50-75e9-425d-bcc3-28feab75b1b0",
   "metadata": {},
   "source": [
    "#### Read"
   ]
  },
  {
   "cell_type": "code",
   "execution_count": 4,
   "id": "02d24962-ff14-4f06-8548-7c4b6dac9e15",
   "metadata": {
    "tags": []
   },
   "outputs": [],
   "source": [
    "# The dataset is in GCS (distributed), we can get the path using gsutil URI provided  \n",
    "cust_path = 'gs://dataproc-staging-us-central1-1097408646578-yvstuqxm/ecommerce_dummy/customers_500mb.csv' \n",
    "\n",
    "# define schema coz our data is 500-ish MB\n",
    "schema = StructType ([\n",
    "StructField(\"customer_id\", IntegerType(), True),\n",
    "StructField(\"name\", StringType(), True),\n",
    "StructField(\"city\", StringType(), True),\n",
    "StructField(\"state\", StringType(), True),\n",
    "StructField(\"country\", StringType(), True),\n",
    "StructField(\"registration_date\", StringType(), True),\n",
    "StructField(\"is_active\", BooleanType(), True),\n",
    "])\n",
    "\n",
    "# read data\n",
    "df = spark.read\\\n",
    ".format('csv')\\\n",
    ".option('header','true')\\\n",
    ".schema(schema)\\\n",
    ".load(cust_path)"
   ]
  },
  {
   "cell_type": "code",
   "execution_count": 5,
   "id": "8382d504-8ced-4e8f-bbdf-dc865a2b31b4",
   "metadata": {
    "tags": []
   },
   "outputs": [
    {
     "name": "stderr",
     "output_type": "stream",
     "text": [
      "                                                                                \r"
     ]
    },
    {
     "name": "stdout",
     "output_type": "stream",
     "text": [
      "+-----------+----------+---------+-----------+-------+-----------------+---------+\n",
      "|customer_id|      name|     city|      state|country|registration_date|is_active|\n",
      "+-----------+----------+---------+-----------+-------+-----------------+---------+\n",
      "|          0|Customer_0|   Mumbai|  Telangana|  India|       2023-03-21|     true|\n",
      "|          1|Customer_1|  Chennai|West Bengal|  India|       2023-05-27|    false|\n",
      "|          2|Customer_2|     Pune|  Karnataka|  India|       2023-10-11|    false|\n",
      "|          3|Customer_3|Hyderabad|    Gujarat|  India|       2023-11-11|    false|\n",
      "|          4|Customer_4|   Mumbai|  Karnataka|  India|       2023-05-09|    false|\n",
      "+-----------+----------+---------+-----------+-------+-----------------+---------+\n",
      "only showing top 5 rows\n",
      "\n"
     ]
    }
   ],
   "source": [
    "df.show(5)"
   ]
  },
  {
   "cell_type": "code",
   "execution_count": 6,
   "id": "62025341-e8e3-4710-b23b-05753201ff41",
   "metadata": {
    "tags": []
   },
   "outputs": [
    {
     "name": "stdout",
     "output_type": "stream",
     "text": [
      "root\n",
      " |-- customer_id: integer (nullable = true)\n",
      " |-- name: string (nullable = true)\n",
      " |-- city: string (nullable = true)\n",
      " |-- state: string (nullable = true)\n",
      " |-- country: string (nullable = true)\n",
      " |-- registration_date: string (nullable = true)\n",
      " |-- is_active: boolean (nullable = true)\n",
      "\n"
     ]
    }
   ],
   "source": [
    "df.printSchema()"
   ]
  },
  {
   "cell_type": "code",
   "execution_count": 6,
   "id": "fb3f787b-484a-4ed7-bbd5-62dbaa09217d",
   "metadata": {
    "tags": []
   },
   "outputs": [],
   "source": [
    "df = df.cache()"
   ]
  },
  {
   "cell_type": "markdown",
   "id": "d40eaca9-6fd8-4fa3-a1fa-507dee1c050e",
   "metadata": {},
   "source": [
    "#### Process"
   ]
  },
  {
   "cell_type": "code",
   "execution_count": 8,
   "id": "d2e60a94-ea48-4e81-8244-628db92c1ed6",
   "metadata": {
    "tags": []
   },
   "outputs": [
    {
     "name": "stderr",
     "output_type": "stream",
     "text": [
      "[Stage 2:===============================================>           (4 + 1) / 5]\r"
     ]
    },
    {
     "name": "stdout",
     "output_type": "stream",
     "text": [
      "+-----------------+\n",
      "|registration_date|\n",
      "+-----------------+\n",
      "+-----------------+\n",
      "\n"
     ]
    }
   ],
   "source": [
    "# check the format of date column (as i run, it takes long time but still okay just few seconds)\n",
    "\n",
    "df_correct_date = df.withColumn(\"parsed_date\", to_date(col(\"registration_date\"), \"yyyy-MM-dd\"))\n",
    "df_correct_date.filter(col(\"parsed_date\").isNull()).select(\"registration_date\").distinct().show(10, False)"
   ]
  },
  {
   "cell_type": "code",
   "execution_count": null,
   "id": "11f7d8d0-d675-4f06-b8b5-58bf9960d834",
   "metadata": {
    "tags": []
   },
   "outputs": [],
   "source": [
    "# Since the date format is same in all rows, we change the registration_date col type into date type yyyy-MM-dd "
   ]
  },
  {
   "cell_type": "code",
   "execution_count": 7,
   "id": "dc45b134-91a9-41c6-9271-077837c48f40",
   "metadata": {
    "tags": []
   },
   "outputs": [],
   "source": [
    "df = df.withColumn(\"registration_date\", to_date(col(\"registration_date\"), \"yyyy-MM-dd\"))"
   ]
  },
  {
   "cell_type": "code",
   "execution_count": 10,
   "id": "6f99732d-17ad-40ec-81c5-3adaec2e0011",
   "metadata": {
    "tags": []
   },
   "outputs": [
    {
     "name": "stdout",
     "output_type": "stream",
     "text": [
      "root\n",
      " |-- customer_id: integer (nullable = true)\n",
      " |-- name: string (nullable = true)\n",
      " |-- city: string (nullable = true)\n",
      " |-- state: string (nullable = true)\n",
      " |-- country: string (nullable = true)\n",
      " |-- registration_date: date (nullable = true)\n",
      " |-- is_active: boolean (nullable = true)\n",
      "\n"
     ]
    }
   ],
   "source": [
    "df.printSchema()"
   ]
  },
  {
   "cell_type": "code",
   "execution_count": null,
   "id": "42767fca-89ed-4ed7-a10a-10c65603d2e8",
   "metadata": {
    "tags": []
   },
   "outputs": [],
   "source": [
    "# Check if there is any null or nan value in each columns"
   ]
  },
  {
   "cell_type": "code",
   "execution_count": 11,
   "id": "8882c0a3-17d6-4061-90be-7698f7417dee",
   "metadata": {
    "tags": []
   },
   "outputs": [],
   "source": [
    "def count_invalid_values(df, cols=None):\n",
    "    \"\"\"\n",
    "    Menghitung jumlah nilai yang dianggap tidak valid (null, NaN, string kosong, \"null\", \"n/a\", dst.)\n",
    "    untuk setiap kolom yang ditentukan (atau semua kolom).\n",
    "    \n",
    "    Returns: DataFrame 1 baris dengan jumlah invalid per kolom\n",
    "    \"\"\"\n",
    "    if cols is None:\n",
    "        cols = df.columns\n",
    "        \n",
    "    exprs = []\n",
    "    for c in cols:\n",
    "        expr = when(\n",
    "            col(c).isNull() |\n",
    "            (trim(col(c)) == \"\") |\n",
    "            (lower(trim(col(c))).isin(\"null\", \"n/a\", \"na\", \"missing\", \"?\")),\n",
    "            1\n",
    "        ).otherwise(0)\n",
    "        exprs.append(sum(expr).alias(c))\n",
    "    \n",
    "    return df.select(exprs)"
   ]
  },
  {
   "cell_type": "code",
   "execution_count": 12,
   "id": "958c271a-599a-4a16-bf99-ec81769c32f0",
   "metadata": {
    "tags": []
   },
   "outputs": [
    {
     "name": "stderr",
     "output_type": "stream",
     "text": [
      "[Stage 3:===============================================>           (4 + 1) / 5]\r"
     ]
    },
    {
     "name": "stdout",
     "output_type": "stream",
     "text": [
      "+-----------+----+----+-----+-------+-----------------+---------+\n",
      "|customer_id|name|city|state|country|registration_date|is_active|\n",
      "+-----------+----+----+-----+-------+-----------------+---------+\n",
      "|          0|   0|   0|    0|      0|                0|        0|\n",
      "+-----------+----+----+-----+-------+-----------------+---------+\n",
      "\n"
     ]
    },
    {
     "name": "stderr",
     "output_type": "stream",
     "text": [
      "                                                                                \r"
     ]
    }
   ],
   "source": [
    "count_invalid_values(df).show()"
   ]
  },
  {
   "cell_type": "code",
   "execution_count": null,
   "id": "7f73601e-7ef0-4fe9-915e-f6137b1d7305",
   "metadata": {
    "tags": []
   },
   "outputs": [],
   "source": [
    "# Since there is no null values then we don't use Fillna. However if there is any invalid value we can use Fillna as in the code below"
   ]
  },
  {
   "cell_type": "code",
   "execution_count": null,
   "id": "344f9b91-92c7-4589-9edc-50ecfdf9d380",
   "metadata": {
    "tags": []
   },
   "outputs": [],
   "source": [
    "# def replace_invalid_values(df, replacement_map):\n",
    "#     \"\"\"\n",
    "#     Ganti nilai tidak valid di beberapa kolom sesuai replacement_map.\n",
    "#     Nilai tidak valid: null, NaN, \"\", \"null\", \"n/a\", \"na\", \"missing\", \"?\"\n",
    "#     \"\"\"\n",
    "#     for c, replacement in replacement_map.items():\n",
    "#         df = df.withColumn(\n",
    "#             c,\n",
    "#             when(\n",
    "#                 col(c).isNull() |\n",
    "#                 (trim(col(c)) == \"\") |\n",
    "#                 (lower(trim(col(c))).isin(\"null\", \"n/a\", \"na\", \"missing\", \"?\")),\n",
    "#                 replacement\n",
    "#             ).otherwise(col(c))\n",
    "#         )\n",
    "#     return df"
   ]
  },
  {
   "cell_type": "code",
   "execution_count": null,
   "id": "66f9d7cd-3313-4186-b077-fcb498b4508e",
   "metadata": {
    "tags": []
   },
   "outputs": [],
   "source": [
    "# values = {\n",
    "#     'city': 'Unknown',\n",
    "#     'state': 'Unknown',\n",
    "#     'country': 'Unknown',\n",
    "# }\n",
    "\n",
    "# df_clean = replace_invalid_values(df, values)"
   ]
  },
  {
   "cell_type": "code",
   "execution_count": null,
   "id": "e9a75870-6d1a-4e11-8745-502c74cc1391",
   "metadata": {
    "tags": []
   },
   "outputs": [],
   "source": [
    "# Extract year, month, dayofmonth, and day name from registration_date"
   ]
  },
  {
   "cell_type": "code",
   "execution_count": 8,
   "id": "266e5a0e-a4f3-4730-a72b-a8617fafb78e",
   "metadata": {
    "tags": []
   },
   "outputs": [],
   "source": [
    "df = df.withColumn('registration_year', year(col('registration_date'))) \\\n",
    "       .withColumn('registration_month', month(col('registration_date'))) \\\n",
    "       .withColumn('registration_day', dayofmonth(col('registration_date'))) \\\n",
    "       .withColumn('registration_dayname', date_format(col('registration_date'), 'EEEE'))"
   ]
  },
  {
   "cell_type": "code",
   "execution_count": 9,
   "id": "5631c518-f921-4077-b624-2f664c4945d4",
   "metadata": {
    "tags": []
   },
   "outputs": [
    {
     "name": "stderr",
     "output_type": "stream",
     "text": [
      "[Stage 1:===============================================>           (4 + 1) / 5]\r"
     ]
    },
    {
     "name": "stdout",
     "output_type": "stream",
     "text": [
      "+-----------+----------+---------+-----------+-------+-----------------+---------+-----------------+------------------+----------------+--------------------+\n",
      "|customer_id|      name|     city|      state|country|registration_date|is_active|registration_year|registration_month|registration_day|registration_dayname|\n",
      "+-----------+----------+---------+-----------+-------+-----------------+---------+-----------------+------------------+----------------+--------------------+\n",
      "|          0|Customer_0|   Mumbai|  Telangana|  India|       2023-03-21|     true|             2023|                 3|              21|             Tuesday|\n",
      "|          1|Customer_1|  Chennai|West Bengal|  India|       2023-05-27|    false|             2023|                 5|              27|            Saturday|\n",
      "|          2|Customer_2|     Pune|  Karnataka|  India|       2023-10-11|    false|             2023|                10|              11|           Wednesday|\n",
      "|          3|Customer_3|Hyderabad|    Gujarat|  India|       2023-11-11|    false|             2023|                11|              11|            Saturday|\n",
      "|          4|Customer_4|   Mumbai|  Karnataka|  India|       2023-05-09|    false|             2023|                 5|               9|             Tuesday|\n",
      "+-----------+----------+---------+-----------+-------+-----------------+---------+-----------------+------------------+----------------+--------------------+\n",
      "only showing top 5 rows\n",
      "\n"
     ]
    },
    {
     "name": "stderr",
     "output_type": "stream",
     "text": [
      "                                                                                \r"
     ]
    }
   ],
   "source": [
    "df.show(5)"
   ]
  },
  {
   "cell_type": "code",
   "execution_count": 10,
   "id": "24e2e5c0-8efa-4b5d-92f0-e0b8634bc833",
   "metadata": {
    "tags": []
   },
   "outputs": [
    {
     "name": "stderr",
     "output_type": "stream",
     "text": [
      "[Stage 3:===================================>                       (3 + 2) / 5]\r"
     ]
    },
    {
     "name": "stdout",
     "output_type": "stream",
     "text": [
      "+---------+-------+\n",
      "|     city|  count|\n",
      "+---------+-------+\n",
      "|Ahmedabad|1097162|\n",
      "|  Kolkata|1096777|\n",
      "|Hyderabad|1096426|\n",
      "|    Delhi|1096183|\n",
      "|   Mumbai|1095815|\n",
      "|     Pune|1095748|\n",
      "|  Chennai|1095052|\n",
      "|Bangalore|1094195|\n",
      "+---------+-------+\n",
      "\n"
     ]
    },
    {
     "name": "stderr",
     "output_type": "stream",
     "text": [
      "                                                                                \r"
     ]
    }
   ],
   "source": [
    "df.groupBy(\"city\").count().orderBy(col('count'), ascending=False).show()"
   ]
  },
  {
   "cell_type": "code",
   "execution_count": 20,
   "id": "93ff3a96-75ff-4afe-9649-afc4cbdbce94",
   "metadata": {
    "tags": []
   },
   "outputs": [
    {
     "name": "stderr",
     "output_type": "stream",
     "text": [
      "[Stage 22:===========>                                              (1 + 4) / 5]\r"
     ]
    },
    {
     "name": "stdout",
     "output_type": "stream",
     "text": [
      "+-----------+-------+\n",
      "|      state|  count|\n",
      "+-----------+-------+\n",
      "| Tamil Nadu|1254446|\n",
      "|      Delhi|1253174|\n",
      "|  Telangana|1252686|\n",
      "|    Gujarat|1252211|\n",
      "|Maharashtra|1251967|\n",
      "|  Karnataka|1251570|\n",
      "|West Bengal|1251304|\n",
      "+-----------+-------+\n",
      "\n"
     ]
    },
    {
     "name": "stderr",
     "output_type": "stream",
     "text": [
      "                                                                                \r"
     ]
    }
   ],
   "source": [
    "df.groupBy(\"state\").count().orderBy(col('count'), ascending=False).show()"
   ]
  },
  {
   "cell_type": "code",
   "execution_count": 21,
   "id": "86dd4346-c077-4baa-8532-45397898d296",
   "metadata": {
    "tags": []
   },
   "outputs": [
    {
     "name": "stderr",
     "output_type": "stream",
     "text": [
      "[Stage 25:==============================================>           (4 + 1) / 5]\r"
     ]
    },
    {
     "name": "stdout",
     "output_type": "stream",
     "text": [
      "+---------+-----------+------+\n",
      "|     city|      state| count|\n",
      "+---------+-----------+------+\n",
      "|    Delhi| Tamil Nadu|157252|\n",
      "|   Mumbai| Tamil Nadu|157161|\n",
      "|  Kolkata|    Gujarat|157090|\n",
      "|  Kolkata|Maharashtra|157052|\n",
      "|Ahmedabad| Tamil Nadu|156982|\n",
      "|Ahmedabad|      Delhi|156979|\n",
      "|Ahmedabad|  Karnataka|156958|\n",
      "|    Delhi|      Delhi|156950|\n",
      "|  Chennai|West Bengal|156904|\n",
      "|  Kolkata| Tamil Nadu|156897|\n",
      "|Hyderabad|Maharashtra|156874|\n",
      "|Hyderabad|West Bengal|156822|\n",
      "|Hyderabad|  Telangana|156796|\n",
      "|Ahmedabad|  Telangana|156756|\n",
      "|     Pune|      Delhi|156750|\n",
      "|   Mumbai|      Delhi|156726|\n",
      "|     Pune| Tamil Nadu|156713|\n",
      "|     Pune|  Karnataka|156705|\n",
      "|     Pune|  Telangana|156698|\n",
      "|Hyderabad|      Delhi|156659|\n",
      "+---------+-----------+------+\n",
      "only showing top 20 rows\n",
      "\n"
     ]
    },
    {
     "name": "stderr",
     "output_type": "stream",
     "text": [
      "                                                                                \r"
     ]
    }
   ],
   "source": [
    "df.groupBy(\"city\",\"state\").count().orderBy(col('count'), ascending=False).show()"
   ]
  },
  {
   "cell_type": "code",
   "execution_count": 23,
   "id": "383157eb-81c1-4663-98ad-26d0968dc3f8",
   "metadata": {
    "tags": []
   },
   "outputs": [],
   "source": [
    "# count active user and incative user in each state using pivot"
   ]
  },
  {
   "cell_type": "code",
   "execution_count": 24,
   "id": "951d2125-530a-417c-be9c-9805abb529d7",
   "metadata": {
    "tags": []
   },
   "outputs": [
    {
     "name": "stderr",
     "output_type": "stream",
     "text": [
      "[Stage 36:==============================================>           (4 + 1) / 5]\r"
     ]
    },
    {
     "name": "stdout",
     "output_type": "stream",
     "text": [
      "+-----------+------+------+\n",
      "|      state| false|  true|\n",
      "+-----------+------+------+\n",
      "|    Gujarat|626059|626152|\n",
      "|      Delhi|627162|626012|\n",
      "|  Karnataka|625222|626348|\n",
      "|  Telangana|626289|626397|\n",
      "|Maharashtra|626401|625566|\n",
      "| Tamil Nadu|627387|627059|\n",
      "|West Bengal|625316|625988|\n",
      "+-----------+------+------+\n",
      "\n"
     ]
    },
    {
     "name": "stderr",
     "output_type": "stream",
     "text": [
      "                                                                                \r"
     ]
    }
   ],
   "source": [
    "df.groupBy(\"state\").pivot(\"is_active\").count().show()"
   ]
  },
  {
   "cell_type": "code",
   "execution_count": 43,
   "id": "dc749936-2bb4-423c-bbc5-a4e7bd3149e7",
   "metadata": {
    "tags": []
   },
   "outputs": [
    {
     "name": "stdout",
     "output_type": "stream",
     "text": [
      "+----------+\n",
      "|     today|\n",
      "+----------+\n",
      "|2025-06-06|\n",
      "+----------+\n",
      "\n"
     ]
    }
   ],
   "source": [
    "df_date = spark.range(1).select(current_date().alias(\"today\"))\n",
    "\n",
    "# Tampilkan\n",
    "df_date.show()"
   ]
  },
  {
   "cell_type": "code",
   "execution_count": 46,
   "id": "ec7ca593-8539-4fd7-b397-e267d1bfd0a1",
   "metadata": {
    "tags": []
   },
   "outputs": [],
   "source": [
    "# df_recent_cust.unpersist()\n",
    "# # diunpersist dulu karena mau ganti logic code di bawah"
   ]
  },
  {
   "cell_type": "code",
   "execution_count": 11,
   "id": "0c8a4e33-8b6c-4c55-8fe8-3eb816e3e9f1",
   "metadata": {
    "tags": []
   },
   "outputs": [],
   "source": [
    "df_recent_cust = df.filter(\n",
    "    (col(\"registration_date\") >= lit(\"2023-05-01\")) &\n",
    "    (col(\"registration_date\") <= lit(\"2023-06-01\")) # anggap current datenya ini\n",
    ").cache()"
   ]
  },
  {
   "cell_type": "code",
   "execution_count": 48,
   "id": "c1010d8e-2e52-4a82-88c7-a71eceea2cc5",
   "metadata": {
    "tags": []
   },
   "outputs": [
    {
     "name": "stdout",
     "output_type": "stream",
     "text": [
      "+-----------+-----------+---------+-----------+-------+-----------------+---------+-----------------+------------------+----------------+--------------------+\n",
      "|customer_id|       name|     city|      state|country|registration_date|is_active|registration_year|registration_month|registration_day|registration_dayname|\n",
      "+-----------+-----------+---------+-----------+-------+-----------------+---------+-----------------+------------------+----------------+--------------------+\n",
      "|          1| Customer_1|  Chennai|West Bengal|  India|       2023-05-27|    false|             2023|                 5|              27|            Saturday|\n",
      "|          4| Customer_4|   Mumbai|  Karnataka|  India|       2023-05-09|    false|             2023|                 5|               9|             Tuesday|\n",
      "|         24|Customer_24|Bangalore| Tamil Nadu|  India|       2023-05-14|     true|             2023|                 5|              14|              Sunday|\n",
      "|         36|Customer_36|  Chennai| Tamil Nadu|  India|       2023-05-22|    false|             2023|                 5|              22|              Monday|\n",
      "|         40|Customer_40|Ahmedabad|West Bengal|  India|       2023-05-28|    false|             2023|                 5|              28|              Sunday|\n",
      "+-----------+-----------+---------+-----------+-------+-----------------+---------+-----------------+------------------+----------------+--------------------+\n",
      "only showing top 5 rows\n",
      "\n"
     ]
    }
   ],
   "source": [
    "df_recent_cust.show(5)"
   ]
  },
  {
   "cell_type": "code",
   "execution_count": 49,
   "id": "b21f6385-4f69-4a4e-9cbc-0f5a252f647e",
   "metadata": {
    "tags": []
   },
   "outputs": [
    {
     "data": {
      "text/plain": [
       "768468"
      ]
     },
     "execution_count": 49,
     "metadata": {},
     "output_type": "execute_result"
    }
   ],
   "source": [
    "df_recent_cust.count()"
   ]
  },
  {
   "cell_type": "code",
   "execution_count": 50,
   "id": "e9389b08-15fc-496d-bd2d-99cbefa3b471",
   "metadata": {
    "tags": []
   },
   "outputs": [
    {
     "data": {
      "text/plain": [
       "8767358"
      ]
     },
     "execution_count": 50,
     "metadata": {},
     "output_type": "execute_result"
    }
   ],
   "source": [
    "df.count()"
   ]
  },
  {
   "cell_type": "code",
   "execution_count": 51,
   "id": "cf0cd5f3-1a20-4a4a-999d-615c86c22437",
   "metadata": {
    "tags": []
   },
   "outputs": [],
   "source": [
    "# get the oldest and newest customer in each city"
   ]
  },
  {
   "cell_type": "code",
   "execution_count": 52,
   "id": "d1e36116-dd28-48bd-864d-d2ef70c2857a",
   "metadata": {
    "tags": []
   },
   "outputs": [
    {
     "name": "stderr",
     "output_type": "stream",
     "text": [
      "[Stage 75:==============================================>           (4 + 1) / 5]\r"
     ]
    },
    {
     "name": "stdout",
     "output_type": "stream",
     "text": [
      "+---------+----------+----------+\n",
      "|     city|    oldest|    newest|\n",
      "+---------+----------+----------+\n",
      "|    Delhi|2023-01-01|2023-12-31|\n",
      "|  Kolkata|2023-01-01|2023-12-31|\n",
      "|Hyderabad|2023-01-01|2023-12-31|\n",
      "|Bangalore|2023-01-01|2023-12-31|\n",
      "|Ahmedabad|2023-01-01|2023-12-31|\n",
      "|  Chennai|2023-01-01|2023-12-31|\n",
      "|   Mumbai|2023-01-01|2023-12-31|\n",
      "|     Pune|2023-01-01|2023-12-31|\n",
      "+---------+----------+----------+\n",
      "\n"
     ]
    },
    {
     "name": "stderr",
     "output_type": "stream",
     "text": [
      "                                                                                \r"
     ]
    }
   ],
   "source": [
    "df.groupBy('city').agg(min('registration_date').alias('oldest'),max('registration_date').alias('newest')).show()\n"
   ]
  },
  {
   "cell_type": "code",
   "execution_count": 12,
   "id": "dadd3d74-0046-442a-922b-97e4e9ad632d",
   "metadata": {
    "tags": []
   },
   "outputs": [],
   "source": [
    "df_recent_nonactive_cust = df_recent_cust.filter(col('is_active') == False).cache()\n",
    "df_recent_active_cust = df_recent_cust.filter(col('is_active') == True).cache()"
   ]
  },
  {
   "cell_type": "code",
   "execution_count": 64,
   "id": "410c0006-8d17-4964-a811-2198f1e35fe5",
   "metadata": {
    "tags": []
   },
   "outputs": [
    {
     "name": "stderr",
     "output_type": "stream",
     "text": [
      "                                                                                \r"
     ]
    },
    {
     "data": {
      "text/plain": [
       "(383654, 384814)"
      ]
     },
     "execution_count": 64,
     "metadata": {},
     "output_type": "execute_result"
    }
   ],
   "source": [
    "df_recent_nonactive_cust.count(), df_recent_active_cust.count()"
   ]
  },
  {
   "cell_type": "code",
   "execution_count": 63,
   "id": "4732a643-bcf3-4b03-8cb4-651ce2b23207",
   "metadata": {
    "tags": []
   },
   "outputs": [
    {
     "name": "stderr",
     "output_type": "stream",
     "text": [
      "[Stage 94:==================================>                       (3 + 2) / 5]\r"
     ]
    },
    {
     "name": "stdout",
     "output_type": "stream",
     "text": [
      "+---------+-----+-------+---------+-----------+----------+---------+-----------+\n",
      "|     city|Delhi|Gujarat|Karnataka|Maharashtra|Tamil Nadu|Telangana|West Bengal|\n",
      "+---------+-----+-------+---------+-----------+----------+---------+-----------+\n",
      "|    Delhi| 6741|   6948|     6854|       7011|      6923|     6908|       6901|\n",
      "|  Kolkata| 6825|   6928|     6850|       6894|      6912|     6885|       6894|\n",
      "|Hyderabad| 7043|   6893|     6760|       6860|      6881|     6902|       6948|\n",
      "|Bangalore| 6836|   6834|     7052|       6787|      6765|     6895|       6876|\n",
      "|Ahmedabad| 6758|   6839|     6731|       6778|      6862|     6960|       6905|\n",
      "|  Chennai| 6764|   6987|     6847|       6836|      6903|     6896|       6961|\n",
      "|   Mumbai| 6753|   6856|     6784|       6593|      6912|     6867|       6808|\n",
      "|     Pune| 6814|   6890|     6892|       6946|      6963|     6985|       6918|\n",
      "+---------+-----+-------+---------+-----------+----------+---------+-----------+\n",
      "\n"
     ]
    },
    {
     "name": "stderr",
     "output_type": "stream",
     "text": [
      "                                                                                \r"
     ]
    }
   ],
   "source": [
    "df_recent_active_cust.groupBy(\"city\").pivot(\"state\").count().show()"
   ]
  },
  {
   "cell_type": "markdown",
   "id": "c7015d01-6fbd-4a4b-903d-c430cfc0dacf",
   "metadata": {},
   "source": [
    "Analyze orders data"
   ]
  },
  {
   "cell_type": "code",
   "execution_count": 13,
   "id": "94e76e67-bdd6-4a8d-aa0f-4367a125c146",
   "metadata": {
    "tags": []
   },
   "outputs": [],
   "source": [
    "# The dataset is in GCS (distributed), we can get the path using gsutil URI provided  \n",
    "orders_path = 'gs://dataproc-staging-us-central1-1097408646578-yvstuqxm/ecommerce_dummy/orders.csv' \n",
    "\n",
    "# define schema coz our data is 400-ish MB\n",
    "schema_order = StructType ([\n",
    "StructField(\"order_id\", IntegerType(), True),\n",
    "StructField(\"customer_id\", IntegerType(), True),\n",
    "StructField(\"order_date\", DateType(), True),\n",
    "StructField(\"total_amount\", DoubleType(), True),\n",
    "StructField(\"status\", StringType(), True),\n",
    "])\n",
    "\n",
    "# read data\n",
    "orders = spark.read\\\n",
    ".format('csv')\\\n",
    ".option('header','true')\\\n",
    ".schema(schema_order)\\\n",
    ".load(orders_path)"
   ]
  },
  {
   "cell_type": "code",
   "execution_count": 14,
   "id": "3701b6de-567d-4b0f-9560-788fdbcee384",
   "metadata": {
    "tags": []
   },
   "outputs": [
    {
     "name": "stdout",
     "output_type": "stream",
     "text": [
      "root\n",
      " |-- order_id: integer (nullable = true)\n",
      " |-- customer_id: integer (nullable = true)\n",
      " |-- order_date: date (nullable = true)\n",
      " |-- total_amount: double (nullable = true)\n",
      " |-- status: string (nullable = true)\n",
      "\n"
     ]
    }
   ],
   "source": [
    "orders.printSchema()"
   ]
  },
  {
   "cell_type": "code",
   "execution_count": 15,
   "id": "669c7fe2-cc7d-45f5-b522-479b404cacec",
   "metadata": {
    "tags": []
   },
   "outputs": [
    {
     "name": "stdout",
     "output_type": "stream",
     "text": [
      "+--------+-----------+----------+-----------------+---------+\n",
      "|order_id|customer_id|order_date|     total_amount|   status|\n",
      "+--------+-----------+----------+-----------------+---------+\n",
      "|       0|    3194509|2024-04-12|772.3507972244216|  Shipped|\n",
      "|       1|    8003925|2024-05-06| 404.843827081314|  Shipped|\n",
      "|       2|    1946602|2024-01-11| 886.516239811537|Cancelled|\n",
      "|       3|    8511049|2024-05-28|268.3271760083327|Cancelled|\n",
      "|       4|    5013836|2024-07-23|408.1673106991602|Cancelled|\n",
      "+--------+-----------+----------+-----------------+---------+\n",
      "only showing top 5 rows\n",
      "\n"
     ]
    }
   ],
   "source": [
    "orders.show(5)"
   ]
  },
  {
   "cell_type": "code",
   "execution_count": 16,
   "id": "96485167-d401-46ba-bcd4-97342658d531",
   "metadata": {
    "tags": []
   },
   "outputs": [],
   "source": [
    "orders = orders.cache()"
   ]
  },
  {
   "cell_type": "code",
   "execution_count": 25,
   "id": "af0ee938-d9e7-4001-9086-4eeddddda000",
   "metadata": {
    "tags": []
   },
   "outputs": [],
   "source": [
    "max_amount = orders.agg(max(\"total_amount\")).collect()[0][0]"
   ]
  },
  {
   "cell_type": "code",
   "execution_count": 26,
   "id": "cddda390-04b9-40b1-bd8e-c98f7712365b",
   "metadata": {
    "tags": []
   },
   "outputs": [
    {
     "data": {
      "text/plain": [
       "999.9998648332053"
      ]
     },
     "execution_count": 26,
     "metadata": {},
     "output_type": "execute_result"
    }
   ],
   "source": [
    "max_amount"
   ]
  },
  {
   "cell_type": "code",
   "execution_count": 27,
   "id": "e8876994-629b-4c5e-856a-ba592fc1c7cb",
   "metadata": {
    "tags": []
   },
   "outputs": [
    {
     "name": "stdout",
     "output_type": "stream",
     "text": [
      "+--------+-----------+----------+-----------------+---------+\n",
      "|order_id|customer_id|order_date|     total_amount|   status|\n",
      "+--------+-----------+----------+-----------------+---------+\n",
      "|  285908|    8125778|2024-10-29|999.9998648332053|Cancelled|\n",
      "+--------+-----------+----------+-----------------+---------+\n",
      "\n"
     ]
    }
   ],
   "source": [
    "orders.filter(col(\"total_amount\") == max_amount).show()"
   ]
  },
  {
   "cell_type": "code",
   "execution_count": 28,
   "id": "13b97250-2849-4441-8b63-702d05463428",
   "metadata": {
    "tags": []
   },
   "outputs": [
    {
     "name": "stderr",
     "output_type": "stream",
     "text": [
      "[Stage 16:=============================>                            (2 + 2) / 4]\r"
     ]
    },
    {
     "name": "stdout",
     "output_type": "stream",
     "text": [
      "+---------+\n",
      "|   status|\n",
      "+---------+\n",
      "|Cancelled|\n",
      "|Delivered|\n",
      "|  Shipped|\n",
      "|  Pending|\n",
      "+---------+\n",
      "\n"
     ]
    },
    {
     "name": "stderr",
     "output_type": "stream",
     "text": [
      "                                                                                \r"
     ]
    }
   ],
   "source": [
    "orders.select(\"status\").distinct().show()"
   ]
  },
  {
   "cell_type": "code",
   "execution_count": 29,
   "id": "3dd7326c-8853-48bb-ad98-e9dfcd73b6ad",
   "metadata": {
    "tags": []
   },
   "outputs": [
    {
     "name": "stderr",
     "output_type": "stream",
     "text": [
      "[Stage 19:===========================================>              (3 + 1) / 4]\r"
     ]
    },
    {
     "name": "stdout",
     "output_type": "stream",
     "text": [
      "+---------+-------+\n",
      "|   status|  count|\n",
      "+---------+-------+\n",
      "|Cancelled|2190854|\n",
      "|Delivered|2193938|\n",
      "|  Shipped|2191748|\n",
      "|  Pending|2190818|\n",
      "+---------+-------+\n",
      "\n"
     ]
    },
    {
     "name": "stderr",
     "output_type": "stream",
     "text": [
      "                                                                                \r"
     ]
    }
   ],
   "source": [
    "orders.groupBy(\"status\").count().show()"
   ]
  },
  {
   "cell_type": "code",
   "execution_count": 30,
   "id": "6c34f036-e14d-49a9-ad36-ff781b69919a",
   "metadata": {
    "tags": []
   },
   "outputs": [],
   "source": [
    "success_orders = orders.filter(col('status') == 'Delivered').cache()"
   ]
  },
  {
   "cell_type": "code",
   "execution_count": 32,
   "id": "b35a7a74-6146-4806-8674-7d3e0ebe58a2",
   "metadata": {
    "tags": []
   },
   "outputs": [
    {
     "name": "stderr",
     "output_type": "stream",
     "text": [
      "[Stage 22:===========================================>              (3 + 1) / 4]\r"
     ]
    },
    {
     "name": "stdout",
     "output_type": "stream",
     "text": [
      "+--------+-----------+----------+------------------+---------+\n",
      "|order_id|customer_id|order_date|      total_amount|   status|\n",
      "+--------+-----------+----------+------------------+---------+\n",
      "|       9|    8298598|2024-12-08|53.509402682214954|Delivered|\n",
      "|      14|    7014407|2024-01-22| 431.8540239941009|Delivered|\n",
      "|      33|     865279|2024-12-27| 534.4659633185123|Delivered|\n",
      "|      41|     493094|2024-07-02| 90.86529401137149|Delivered|\n",
      "|      46|    3277795|2024-05-23| 917.1587356598935|Delivered|\n",
      "+--------+-----------+----------+------------------+---------+\n",
      "only showing top 5 rows\n",
      "\n"
     ]
    },
    {
     "name": "stderr",
     "output_type": "stream",
     "text": [
      "                                                                                \r"
     ]
    }
   ],
   "source": [
    "success_orders.show(5)"
   ]
  },
  {
   "cell_type": "code",
   "execution_count": 35,
   "id": "6f02625b-d396-4ae5-9bb7-b42113bf0c42",
   "metadata": {
    "tags": []
   },
   "outputs": [
    {
     "name": "stdout",
     "output_type": "stream",
     "text": [
      "+-----------------+-----------------+-----------------+\n",
      "|          Average|          Maximum|          Minimum|\n",
      "+-----------------+-----------------+-----------------+\n",
      "|504.9787530243163|999.9998261750726|10.00002425168607|\n",
      "+-----------------+-----------------+-----------------+\n",
      "\n"
     ]
    }
   ],
   "source": [
    "success_orders.agg(avg(col(\"total_amount\")).alias(\"Average\"), max(col(\"total_amount\")).alias(\"Maximum\"), min(col(\"total_amount\")).alias(\"Minimum\")).show()"
   ]
  },
  {
   "cell_type": "markdown",
   "id": "3402829a-243f-4e26-8244-58d1c0f0bc77",
   "metadata": {},
   "source": [
    "Join Customers and Orders"
   ]
  },
  {
   "cell_type": "code",
   "execution_count": 42,
   "id": "3179730d-60a1-4119-a3b7-c17853eec156",
   "metadata": {
    "tags": []
   },
   "outputs": [],
   "source": [
    "cust_order_df = df.join(orders, \"customer_id\", \"inner\")"
   ]
  },
  {
   "cell_type": "code",
   "execution_count": 43,
   "id": "59ab41c1-2701-4639-8cb5-5d49654f9df6",
   "metadata": {
    "tags": []
   },
   "outputs": [
    {
     "name": "stderr",
     "output_type": "stream",
     "text": [
      "                                                                                \r"
     ]
    },
    {
     "data": {
      "text/plain": [
       "8767358"
      ]
     },
     "execution_count": 43,
     "metadata": {},
     "output_type": "execute_result"
    }
   ],
   "source": [
    "cust_order_df.count()"
   ]
  },
  {
   "cell_type": "code",
   "execution_count": 47,
   "id": "1a24b5f2-01c5-44a9-9081-a204548d2157",
   "metadata": {
    "tags": []
   },
   "outputs": [
    {
     "name": "stderr",
     "output_type": "stream",
     "text": [
      "25/06/06 14:34:49 WARN CacheManager: Asked to cache already cached data.\n"
     ]
    }
   ],
   "source": [
    "cust_order_df = cust_order_df.cache()"
   ]
  },
  {
   "cell_type": "code",
   "execution_count": 50,
   "id": "a1504046-dab4-40be-860c-33ff2e7256d7",
   "metadata": {
    "tags": []
   },
   "outputs": [
    {
     "data": {
      "text/plain": [
       "DataFrame[customer_id: int, name: string, city: string, state: string, country: string, registration_date: date, is_active: boolean, registration_year: int, registration_month: int, registration_day: int, registration_dayname: string, order_id: int, order_date: date, total_amount: double, status: string]"
      ]
     },
     "execution_count": 50,
     "metadata": {},
     "output_type": "execute_result"
    }
   ],
   "source": [
    "cust_order_df.unpersist()"
   ]
  },
  {
   "cell_type": "code",
   "execution_count": 51,
   "id": "3d5eb784-5f43-427b-aa7b-9f146765655d",
   "metadata": {
    "tags": []
   },
   "outputs": [],
   "source": [
    "selected = cust_order_df \\\n",
    "           .select(\"customer_id\", \"name\", \"city\", \"state\", \"registration_date\", \"is_active\", \"order_id\", \"order_date\", \"total_amount\", \"status\") \\\n",
    "           .cache()"
   ]
  },
  {
   "cell_type": "markdown",
   "id": "f6c2d39c-5874-4767-8dc3-158154bce3ab",
   "metadata": {},
   "source": [
    "VIP Customers by the count of their orders"
   ]
  },
  {
   "cell_type": "code",
   "execution_count": 52,
   "id": "8491c413-a3f4-4c90-ae6f-089e6fbe00d5",
   "metadata": {
    "tags": []
   },
   "outputs": [
    {
     "name": "stderr",
     "output_type": "stream",
     "text": [
      "[Stage 96:====================================================>(982 + 2) / 1000]\r"
     ]
    },
    {
     "name": "stdout",
     "output_type": "stream",
     "text": [
      "+-----------+-----+\n",
      "|customer_id|count|\n",
      "+-----------+-----+\n",
      "|     960513|   10|\n",
      "|    4685817|    9|\n",
      "|    4758607|    9|\n",
      "|    1680051|    9|\n",
      "|    4177972|    9|\n",
      "|    7695252|    9|\n",
      "|    7596142|    9|\n",
      "|    3952305|    9|\n",
      "|    4353840|    8|\n",
      "|    2687241|    8|\n",
      "|    2727030|    8|\n",
      "|    4737613|    8|\n",
      "|     387115|    8|\n",
      "|    7235039|    8|\n",
      "|    3346013|    8|\n",
      "|    3943540|    8|\n",
      "|    6944921|    8|\n",
      "|    1920164|    8|\n",
      "|    3642000|    8|\n",
      "|    8531908|    8|\n",
      "|    2698942|    8|\n",
      "|    2269868|    8|\n",
      "|    8033718|    8|\n",
      "|    1102326|    8|\n",
      "|    8068134|    8|\n",
      "|    1343906|    8|\n",
      "|    3708421|    8|\n",
      "|    1645353|    8|\n",
      "|    6489121|    8|\n",
      "|    8159121|    8|\n",
      "|    1362838|    8|\n",
      "|    8744405|    8|\n",
      "|      14218|    8|\n",
      "|    2984163|    8|\n",
      "|    3177272|    8|\n",
      "|    8172823|    8|\n",
      "|    1572951|    8|\n",
      "|    4713558|    8|\n",
      "|    1075371|    8|\n",
      "|    8433052|    8|\n",
      "|    2251742|    8|\n",
      "|    5263797|    8|\n",
      "|    5304216|    8|\n",
      "|    6929977|    8|\n",
      "|    2144260|    8|\n",
      "|    3778322|    8|\n",
      "|    4544608|    8|\n",
      "|    3444421|    8|\n",
      "|      38297|    8|\n",
      "|    3629708|    8|\n",
      "|    6323941|    8|\n",
      "|    8403141|    8|\n",
      "|    7377424|    8|\n",
      "|    2372020|    8|\n",
      "|    2059086|    8|\n",
      "|     262952|    8|\n",
      "|     382037|    8|\n",
      "|    6262740|    8|\n",
      "|    2396879|    8|\n",
      "|    1404998|    8|\n",
      "|    7503464|    8|\n",
      "|    7051596|    8|\n",
      "|    2695855|    8|\n",
      "|    5921950|    8|\n",
      "|    1671128|    8|\n",
      "|    6979316|    8|\n",
      "|    7753453|    8|\n",
      "|    7126610|    8|\n",
      "|    1059942|    8|\n",
      "|    4044448|    8|\n",
      "|     124358|    8|\n",
      "|    7238694|    8|\n",
      "|    2492764|    8|\n",
      "|    2964327|    8|\n",
      "|    6786675|    8|\n",
      "|    7175116|    8|\n",
      "|    6777629|    8|\n",
      "|    3949367|    8|\n",
      "|    3638203|    8|\n",
      "|    7956135|    8|\n",
      "|    7899839|    8|\n",
      "|    3618319|    8|\n",
      "|    2805586|    8|\n",
      "|    6778558|    8|\n",
      "|    1008452|    8|\n",
      "|    2742235|    8|\n",
      "|    7883431|    8|\n",
      "|    2604991|    8|\n",
      "|    3816586|    8|\n",
      "|    4289131|    8|\n",
      "|    5714739|    8|\n",
      "|      66658|    8|\n",
      "|    4722330|    8|\n",
      "|    1104928|    8|\n",
      "|    5485619|    8|\n",
      "|    4554262|    7|\n",
      "|    1529630|    7|\n",
      "|    7679742|    7|\n",
      "|    4383883|    7|\n",
      "|     848973|    7|\n",
      "+-----------+-----+\n",
      "only showing top 100 rows\n",
      "\n"
     ]
    },
    {
     "name": "stderr",
     "output_type": "stream",
     "text": [
      "                                                                                \r"
     ]
    }
   ],
   "source": [
    "selected.groupBy(\"customer_id\").count().orderBy(col('count'), ascending=False).show(100)"
   ]
  },
  {
   "cell_type": "code",
   "execution_count": 53,
   "id": "0781d25a-0298-4992-b047-bed925fffb1a",
   "metadata": {
    "tags": []
   },
   "outputs": [
    {
     "name": "stderr",
     "output_type": "stream",
     "text": [
      "[Stage 114:====================================================>(373 + 1) / 375]\r"
     ]
    },
    {
     "name": "stdout",
     "output_type": "stream",
     "text": [
      "+-----------+---------------+-------+---------+-----------------+---------+--------+----------+------------------+---------+\n",
      "|customer_id|           name|   city|    state|registration_date|is_active|order_id|order_date|      total_amount|   status|\n",
      "+-----------+---------------+-------+---------+-----------------+---------+--------+----------+------------------+---------+\n",
      "|     960513|Customer_960513|Kolkata|Karnataka|       2023-11-16|     true| 6749527|2024-09-12|177.56366200886345|Cancelled|\n",
      "|     960513|Customer_960513|Kolkata|Karnataka|       2023-11-16|     true| 7294650|2024-09-05|  737.694216798412|Delivered|\n",
      "|     960513|Customer_960513|Kolkata|Karnataka|       2023-11-16|     true| 8731277|2024-06-22|249.19149892200264|  Pending|\n",
      "|     960513|Customer_960513|Kolkata|Karnataka|       2023-11-16|     true|  509741|2024-09-08| 752.8890242063479|  Pending|\n",
      "|     960513|Customer_960513|Kolkata|Karnataka|       2023-11-16|     true|  701153|2024-10-25|142.48716858710432|Delivered|\n",
      "|     960513|Customer_960513|Kolkata|Karnataka|       2023-11-16|     true| 5282154|2024-07-13| 469.8346073101914|Cancelled|\n",
      "|     960513|Customer_960513|Kolkata|Karnataka|       2023-11-16|     true| 5671599|2024-05-14| 512.8021484147557|  Shipped|\n",
      "|     960513|Customer_960513|Kolkata|Karnataka|       2023-11-16|     true| 6537191|2024-07-02| 396.5121278134733|Cancelled|\n",
      "|     960513|Customer_960513|Kolkata|Karnataka|       2023-11-16|     true| 6599012|2024-11-12| 263.7561568748208|Delivered|\n",
      "|     960513|Customer_960513|Kolkata|Karnataka|       2023-11-16|     true| 3037559|2024-06-03|244.91734216659904|Delivered|\n",
      "+-----------+---------------+-------+---------+-----------------+---------+--------+----------+------------------+---------+\n",
      "\n"
     ]
    },
    {
     "name": "stderr",
     "output_type": "stream",
     "text": [
      "                                                                                \r"
     ]
    }
   ],
   "source": [
    "selected.filter(col(\"customer_id\") == 960513).show()"
   ]
  },
  {
   "cell_type": "markdown",
   "id": "40639542-ca28-4095-8739-1297fc7f1f6a",
   "metadata": {},
   "source": [
    "Total spent (Success orders only / status is delivered) per customer in Delhi state"
   ]
  },
  {
   "cell_type": "code",
   "execution_count": 55,
   "id": "988aafad-59d5-4d66-9130-5f7955e43e33",
   "metadata": {
    "tags": []
   },
   "outputs": [
    {
     "name": "stderr",
     "output_type": "stream",
     "text": [
      "[Stage 120:==================================================> (970 + 2) / 1000]\r"
     ]
    },
    {
     "name": "stdout",
     "output_type": "stream",
     "text": [
      "+-----------+---------------------------+\n",
      "|customer_id|Total Spent (Success Order)|\n",
      "+-----------+---------------------------+\n",
      "|    2402967|         3272.0459097804614|\n",
      "|    6989819|         3206.3600927177818|\n",
      "|    6674611|          3186.050298286749|\n",
      "|    4708179|          3117.681295008326|\n",
      "|    4649616|         3114.4620501476393|\n",
      "|    4455197|          3099.774482792612|\n",
      "|    4268463|          3020.268699009355|\n",
      "|    5817051|         2969.9164323738996|\n",
      "|    1631735|         2913.8458165055713|\n",
      "|    7927876|          2884.821448494191|\n",
      "+-----------+---------------------------+\n",
      "only showing top 10 rows\n",
      "\n"
     ]
    },
    {
     "name": "stderr",
     "output_type": "stream",
     "text": [
      "                                                                                \r"
     ]
    }
   ],
   "source": [
    "selected.filter(col(\"state\") == \"Delhi\") \\\n",
    "        .filter(col(\"status\") == \"Delivered\")\\\n",
    "        .groupBy(\"customer_id\")\\\n",
    "        .agg(sum(\"total_amount\").alias(\"Total Spent (Success Order)\"))\\\n",
    "        .orderBy(\"Total Spent (Success Order)\", ascending=False).show(10)"
   ]
  },
  {
   "cell_type": "markdown",
   "id": "7f92df30-a81b-483d-84e7-7b120fcf7326",
   "metadata": {},
   "source": [
    "How many orders come into the system per month?"
   ]
  },
  {
   "cell_type": "code",
   "execution_count": 58,
   "id": "b3f66543-6702-4e58-909c-7c0b959914f6",
   "metadata": {
    "tags": []
   },
   "outputs": [],
   "source": [
    "order_per_month = selected.withColumn(\"order_month\", month(col(\"order_date\")))\\\n",
    "                          .groupBy(\"order_month\")\\\n",
    "                          .count()\\\n",
    "                          .orderBy(col(\"order_month\"))"
   ]
  },
  {
   "cell_type": "code",
   "execution_count": 59,
   "id": "7a94672c-acd0-484c-ac00-70ebeb6833c3",
   "metadata": {
    "tags": []
   },
   "outputs": [
    {
     "name": "stderr",
     "output_type": "stream",
     "text": [
      "[Stage 123:===================================================>(990 + 1) / 1000]\r"
     ]
    },
    {
     "name": "stdout",
     "output_type": "stream",
     "text": [
      "+-----------+------+\n",
      "|order_month| count|\n",
      "+-----------+------+\n",
      "|          1|744380|\n",
      "|          2|694891|\n",
      "|          3|745393|\n",
      "|          4|719513|\n",
      "|          5|745008|\n",
      "|          6|719718|\n",
      "|          7|745388|\n",
      "|          8|743828|\n",
      "|          9|720546|\n",
      "|         10|745026|\n",
      "|         11|721347|\n",
      "|         12|722320|\n",
      "+-----------+------+\n",
      "\n"
     ]
    },
    {
     "name": "stderr",
     "output_type": "stream",
     "text": [
      "                                                                                \r"
     ]
    }
   ],
   "source": [
    "order_per_month.show()"
   ]
  },
  {
   "cell_type": "code",
   "execution_count": 61,
   "id": "d4718510-0a73-43ba-afc9-21a164045528",
   "metadata": {
    "tags": []
   },
   "outputs": [
    {
     "name": "stdout",
     "output_type": "stream",
     "text": [
      "+-----------+-------------+---------+-----------+-----------------+---------+--------+----------+-----------------+---------+-----------+\n",
      "|customer_id|         name|     city|      state|registration_date|is_active|order_id|order_date|     total_amount|   status|order_month|\n",
      "+-----------+-------------+---------+-----------+-----------------+---------+--------+----------+-----------------+---------+-----------+\n",
      "|        148| Customer_148|Bangalore|Maharashtra|       2023-10-22|     true| 5464329|2024-02-12|920.1930359397587|  Pending|          2|\n",
      "|       1088|Customer_1088|  Chennai| Tamil Nadu|       2023-01-06|    false| 3130459|2024-11-21|73.31849307250877|Delivered|         11|\n",
      "|       1088|Customer_1088|  Chennai| Tamil Nadu|       2023-01-06|    false| 3858678|2024-09-13|691.6821804120165|  Shipped|          9|\n",
      "|       1088|Customer_1088|  Chennai| Tamil Nadu|       2023-01-06|    false| 4225900|2024-04-14| 442.882851154523|  Shipped|          4|\n",
      "|       1591|Customer_1591|    Delhi|      Delhi|       2023-03-23|    false| 5933822|2024-03-19|710.7128541501819|Cancelled|          3|\n",
      "+-----------+-------------+---------+-----------+-----------------+---------+--------+----------+-----------------+---------+-----------+\n",
      "only showing top 5 rows\n",
      "\n"
     ]
    }
   ],
   "source": [
    "selected = selected.withColumn(\"order_month\", month(col(\"order_date\")))\n",
    "selected.show(5)"
   ]
  },
  {
   "cell_type": "code",
   "execution_count": 66,
   "id": "b2ce10f4-13d0-435b-baad-b06d620915d3",
   "metadata": {
    "tags": []
   },
   "outputs": [
    {
     "name": "stderr",
     "output_type": "stream",
     "text": [
      "                                                                                \r"
     ]
    }
   ],
   "source": [
    "pivot_ordermonth_status = selected.groupBy(\"order_month\").pivot(\"status\").count()"
   ]
  },
  {
   "cell_type": "code",
   "execution_count": 68,
   "id": "b2cb9b9d-df09-4216-9c05-b410a3c2c50e",
   "metadata": {
    "tags": []
   },
   "outputs": [
    {
     "name": "stderr",
     "output_type": "stream",
     "text": [
      "[Stage 196:===================================================>(997 + 1) / 1000]\r"
     ]
    },
    {
     "name": "stdout",
     "output_type": "stream",
     "text": [
      "+-----------+---------+---------+-------+-------+\n",
      "|order_month|Cancelled|Delivered|Pending|Shipped|\n",
      "+-----------+---------+---------+-------+-------+\n",
      "|          1|   186287|   186290| 185731| 186072|\n",
      "|          2|   173091|   173414| 174035| 174351|\n",
      "|          3|   186586|   186898| 185826| 186083|\n",
      "|          4|   180123|   180053| 179408| 179929|\n",
      "|          5|   186297|   186328| 185944| 186439|\n",
      "|          6|   179387|   180493| 180482| 179356|\n",
      "|          7|   185890|   186625| 186300| 186573|\n",
      "|          8|   185794|   185731| 186147| 186156|\n",
      "|          9|   180012|   180171| 179832| 180531|\n",
      "|         10|   186038|   186543| 186479| 185966|\n",
      "|         11|   180204|   180758| 180522| 179863|\n",
      "|         12|   181145|   180634| 180112| 180429|\n",
      "+-----------+---------+---------+-------+-------+\n",
      "\n"
     ]
    },
    {
     "name": "stderr",
     "output_type": "stream",
     "text": [
      "                                                                                \r"
     ]
    }
   ],
   "source": [
    "pivot_ordermonth_status.orderBy(\"order_month\").show()"
   ]
  },
  {
   "cell_type": "markdown",
   "id": "4dd5a1bf-1102-4bc9-8e34-aaf286d042ea",
   "metadata": {},
   "source": [
    "Find customers with high order frequency but low total spent (delivered status only)"
   ]
  },
  {
   "cell_type": "code",
   "execution_count": 69,
   "id": "6f0ca892-021d-4976-a888-85471488fd9e",
   "metadata": {
    "tags": []
   },
   "outputs": [],
   "source": [
    "delivered_orders = selected.filter(col(\"status\") == \"Delivered\").cache()"
   ]
  },
  {
   "cell_type": "code",
   "execution_count": 78,
   "id": "acee4714-82d5-4326-aaa1-eda3f85f0b04",
   "metadata": {
    "tags": []
   },
   "outputs": [],
   "source": [
    "target_customers = delivered_orders\\\n",
    ".groupBy(\"customer_id\")\\\n",
    ".agg(count(\"customer_id\").alias(\"Freq Order\"), sum(\"total_amount\").alias(\"Total Spent\"))\\\n",
    ".orderBy(col(\"Freq Order\").desc(), col(\"Total Spent\").asc())"
   ]
  },
  {
   "cell_type": "markdown",
   "id": "b888c379-6b54-4a3f-a424-e95b1a1bf660",
   "metadata": {},
   "source": [
    "#### Write to GCS "
   ]
  },
  {
   "cell_type": "markdown",
   "id": "10053c69-2c2f-4e2c-8fa9-ecd59ec3eee7",
   "metadata": {},
   "source": [
    "Save recent inactive customers <br>\n",
    "Save customers clean version <br>\n",
    "Save cust_order_df (join) <br>"
   ]
  },
  {
   "cell_type": "code",
   "execution_count": 79,
   "id": "8dddb2ce-19ea-493e-88e1-a46d22c915c9",
   "metadata": {
    "tags": []
   },
   "outputs": [
    {
     "name": "stderr",
     "output_type": "stream",
     "text": [
      "                                                                                \r"
     ]
    }
   ],
   "source": [
    "output_path = \"gs://dataproc-staging-us-central1-1097408646578-yvstuqxm/ecommerce_dummy/recent_inactive_customers\"\n",
    "df_recent_nonactive_cust.write.mode('overwrite').parquet(output_path)"
   ]
  },
  {
   "cell_type": "code",
   "execution_count": 80,
   "id": "3187c45a-3196-46d6-939e-13cbd6a67f85",
   "metadata": {
    "tags": []
   },
   "outputs": [
    {
     "name": "stderr",
     "output_type": "stream",
     "text": [
      "                                                                                \r"
     ]
    }
   ],
   "source": [
    "output_path_cust_processed = \"gs://dataproc-staging-us-central1-1097408646578-yvstuqxm/ecommerce_dummy/customers_processed\"\n",
    "df.write.mode('overwrite').parquet(output_path_cust_processed)"
   ]
  },
  {
   "cell_type": "code",
   "execution_count": 81,
   "id": "77bbef78-e705-4101-b6b8-14da3886b5d4",
   "metadata": {
    "tags": []
   },
   "outputs": [
    {
     "name": "stderr",
     "output_type": "stream",
     "text": [
      "                                                                                \r"
     ]
    }
   ],
   "source": [
    "output_path_cust_order_join = \"gs://dataproc-staging-us-central1-1097408646578-yvstuqxm/ecommerce_dummy/customers_orders\"\n",
    "cust_order_df.write.mode('overwrite').parquet(output_path_cust_order_join)"
   ]
  },
  {
   "cell_type": "code",
   "execution_count": 82,
   "id": "114b5c4c-66c1-4935-b051-8bd41e33e7ce",
   "metadata": {
    "tags": []
   },
   "outputs": [
    {
     "data": {
      "text/plain": [
       "DataFrame[customer_id: int, name: string, city: string, state: string, country: string, registration_date: date, is_active: boolean, registration_year: int, registration_month: int, registration_day: int, registration_dayname: string]"
      ]
     },
     "execution_count": 82,
     "metadata": {},
     "output_type": "execute_result"
    }
   ],
   "source": [
    "df.unpersist()\n",
    "df_recent_nonactive_cust.unpersist()\n",
    "df_recent_active_cust.unpersist()\n",
    "df_recent_cust.unpersist()"
   ]
  },
  {
   "cell_type": "code",
   "execution_count": 83,
   "id": "b1f87f7f-8228-468c-9fa0-22ee16b3b06c",
   "metadata": {
    "tags": []
   },
   "outputs": [
    {
     "data": {
      "text/plain": [
       "DataFrame[customer_id: int, name: string, city: string, state: string, registration_date: date, is_active: boolean, order_id: int, order_date: date, total_amount: double, status: string, order_month: int]"
      ]
     },
     "execution_count": 83,
     "metadata": {},
     "output_type": "execute_result"
    }
   ],
   "source": [
    "orders.unpersist()\n",
    "success_orders.unpersist()\n",
    "selected.unpersist()\n",
    "delivered_orders.unpersist()"
   ]
  },
  {
   "cell_type": "code",
   "execution_count": 84,
   "id": "811b94f1-227c-4130-a82d-1daac69b2c76",
   "metadata": {
    "tags": []
   },
   "outputs": [
    {
     "name": "stdout",
     "output_type": "stream",
     "text": [
      "False\n",
      "False\n",
      "False\n",
      "False\n"
     ]
    },
    {
     "data": {
      "text/plain": [
       "(None, None, None, None)"
      ]
     },
     "execution_count": 84,
     "metadata": {},
     "output_type": "execute_result"
    }
   ],
   "source": [
    "print(df_recent_nonactive_cust.is_cached), print(df_recent_active_cust.is_cached), print(df_recent_cust.is_cached), print(df.is_cached)"
   ]
  },
  {
   "cell_type": "code",
   "execution_count": 85,
   "id": "daa92226-0dd0-4c31-838f-9caeacc92a6e",
   "metadata": {
    "tags": []
   },
   "outputs": [
    {
     "name": "stdout",
     "output_type": "stream",
     "text": [
      "False\n",
      "False\n",
      "False\n",
      "False\n"
     ]
    },
    {
     "data": {
      "text/plain": [
       "(None, None, None, None)"
      ]
     },
     "execution_count": 85,
     "metadata": {},
     "output_type": "execute_result"
    }
   ],
   "source": [
    "print(orders.is_cached), print(success_orders.is_cached), print(selected.is_cached), print(delivered_orders.is_cached)"
   ]
  },
  {
   "cell_type": "code",
   "execution_count": 86,
   "id": "4fa244ab-6c85-4c67-a112-5e832e00ceab",
   "metadata": {
    "tags": []
   },
   "outputs": [],
   "source": [
    "spark.stop()"
   ]
  },
  {
   "cell_type": "code",
   "execution_count": null,
   "id": "d41a4729-375d-4548-93ee-ed6ae343fda3",
   "metadata": {},
   "outputs": [],
   "source": []
  }
 ],
 "metadata": {
  "kernelspec": {
   "display_name": "PySpark",
   "language": "python",
   "name": "pyspark"
  },
  "language_info": {
   "codemirror_mode": {
    "name": "ipython",
    "version": 3
   },
   "file_extension": ".py",
   "mimetype": "text/x-python",
   "name": "python",
   "nbconvert_exporter": "python",
   "pygments_lexer": "ipython3",
   "version": "3.11.8"
  }
 },
 "nbformat": 4,
 "nbformat_minor": 5
}